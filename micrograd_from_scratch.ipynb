{
  "nbformat": 4,
  "nbformat_minor": 0,
  "metadata": {
    "colab": {
      "provenance": [],
      "authorship_tag": "ABX9TyO3bw7en8aDJ6x5sjXtG/MQ",
      "include_colab_link": true
    },
    "kernelspec": {
      "name": "python3",
      "display_name": "Python 3"
    },
    "language_info": {
      "name": "python"
    }
  },
  "cells": [
    {
      "cell_type": "markdown",
      "metadata": {
        "id": "view-in-github",
        "colab_type": "text"
      },
      "source": [
        "<a href=\"https://colab.research.google.com/github/tutorials101/micrograd/blob/main/micrograd_from_scratch.ipynb\" target=\"_parent\"><img src=\"https://colab.research.google.com/assets/colab-badge.svg\" alt=\"Open In Colab\"/></a>"
      ]
    },
    {
      "cell_type": "markdown",
      "source": [
        "<> Micrograd Engine Re-Implementation; I'm gonna call it **Scalargrad** instead. You may ask why? I mean why not...? lol\n",
        "\n",
        "This is my effort to learn and improve my coding skills\n",
        "\n",
        "ref: https://youtu.be/VMj-3S1tku0?si=yOYgVsaueCvW9oDB"
      ],
      "metadata": {
        "id": "yxgWZ1hahaqZ"
      }
    },
    {
      "cell_type": "code",
      "source": [
        "# computational graph visualization\n",
        "from graphviz import Digraph\n",
        "\n",
        "def trace(node):\n",
        "\n",
        "  nodes, edges = set(), set()\n",
        "\n",
        "  def parse(node):\n",
        "    if node not in nodes:\n",
        "      nodes.add(node)\n",
        "\n",
        "    for parent in node.parents:\n",
        "      if (parent, node) not in edges:\n",
        "        edges.add((parent, node))\n",
        "      parse(parent)\n",
        "\n",
        "  parse(node)\n",
        "\n",
        "  return nodes, edges\n",
        "\n",
        "def draw_graph(node):\n",
        "\n",
        "  dot = Digraph(graph_attr={'rankdir':'LR'})\n",
        "  nodes, edges = trace(node)\n",
        "\n",
        "  for node in nodes:\n",
        "    dot.node(name=str(id(node)), label=\"{ data=%.2f | grad=%.2f }\" % (node.data, node.grad), shape='record')\n",
        "    if node.operator:\n",
        "      dot.node(name=str(id(node))+node.operator, label=node.operator)\n",
        "      dot.edge(str(id(node))+node.operator, str(id(node)))\n",
        "\n",
        "\n",
        "  for (node1, node2) in edges:\n",
        "    dot.edge(str(id(node1)), str(id(node2))+node2.operator)\n",
        "\n",
        "\n",
        "  return dot\n",
        "\n",
        "\n",
        "\n"
      ],
      "metadata": {
        "id": "yCRkzac_lbdi"
      },
      "execution_count": 67,
      "outputs": []
    },
    {
      "cell_type": "code",
      "source": [
        "# building blocks\n",
        "class Scalar:\n",
        "\n",
        "  def __init__(self, data, parents=(), operator=''):\n",
        "    self.data = data\n",
        "    self.grad = 0.0\n",
        "    self.parents = parents\n",
        "    self.operator = operator\n",
        "\n",
        "  def __repr__(self):\n",
        "    return f\"Scalar(data={self.data:0.2f}, grad={self.grad:0.2f})\"\n",
        "\n",
        "  #scalar operations\n",
        "  def __add__(self, other):\n",
        "\n",
        "    if not isinstance(other, Scalar):\n",
        "      other = Scalar(other)\n",
        "    return Scalar(self.data + other.data, parents=(self, other), operator='+')\n",
        "\n",
        "  def __radd__(self, other):\n",
        "    return self + other\n",
        "\n",
        "  # def __neg__(self, other):\n",
        "  #   return Scalar(-self.data, parents=(self,), operator='-')\n",
        "\n",
        "  # def __sub__(self, other):\n",
        "  #   return self + (-other)\n",
        "\n",
        "  # def __rsub__(self, other):\n",
        "  #   return (-self) + other\n",
        "\n"
      ],
      "metadata": {
        "id": "Ta4Sfpdlhfzx"
      },
      "execution_count": 68,
      "outputs": []
    },
    {
      "cell_type": "markdown",
      "source": [
        "Computational Graph Visualization Util\n",
        "\n"
      ],
      "metadata": {
        "id": "A-BtX7NKkbbS"
      }
    },
    {
      "cell_type": "code",
      "source": [
        "a = Scalar(5)\n"
      ],
      "metadata": {
        "id": "JGgIuD6b9C1I"
      },
      "execution_count": 69,
      "outputs": []
    },
    {
      "cell_type": "code",
      "source": [
        "c = a+3"
      ],
      "metadata": {
        "id": "0hKAh2J99FE_"
      },
      "execution_count": 71,
      "outputs": []
    },
    {
      "cell_type": "code",
      "source": [
        "draw_graph(c)"
      ],
      "metadata": {
        "colab": {
          "base_uri": "https://localhost:8080/",
          "height": 155
        },
        "id": "LMA_y2OF9KDp",
        "outputId": "7ad5499f-ca29-41e1-8b93-0446341fb31a"
      },
      "execution_count": 72,
      "outputs": [
        {
          "output_type": "execute_result",
          "data": {
            "image/svg+xml": "<?xml version=\"1.0\" encoding=\"UTF-8\" standalone=\"no\"?>\n<!DOCTYPE svg PUBLIC \"-//W3C//DTD SVG 1.1//EN\"\n \"http://www.w3.org/Graphics/SVG/1.1/DTD/svg11.dtd\">\n<!-- Generated by graphviz version 2.43.0 (0)\n -->\n<!-- Title: %3 Pages: 1 -->\n<svg width=\"422pt\" height=\"100pt\"\n viewBox=\"0.00 0.00 422.00 100.00\" xmlns=\"http://www.w3.org/2000/svg\" xmlns:xlink=\"http://www.w3.org/1999/xlink\">\n<g id=\"graph0\" class=\"graph\" transform=\"scale(1 1) rotate(0) translate(4 96)\">\n<title>%3</title>\n<polygon fill=\"white\" stroke=\"transparent\" points=\"-4,4 -4,-96 418,-96 418,4 -4,4\"/>\n<!-- 132845272903936 -->\n<g id=\"node1\" class=\"node\">\n<title>132845272903936</title>\n<polygon fill=\"none\" stroke=\"black\" points=\"270,-27.5 270,-63.5 414,-63.5 414,-27.5 270,-27.5\"/>\n<text text-anchor=\"middle\" x=\"305.5\" y=\"-41.8\" font-family=\"Times,serif\" font-size=\"14.00\">data=8.00</text>\n<polyline fill=\"none\" stroke=\"black\" points=\"341,-27.5 341,-63.5 \"/>\n<text text-anchor=\"middle\" x=\"377.5\" y=\"-41.8\" font-family=\"Times,serif\" font-size=\"14.00\">grad=0.00</text>\n</g>\n<!-- 132845272903936+ -->\n<g id=\"node2\" class=\"node\">\n<title>132845272903936+</title>\n<ellipse fill=\"none\" stroke=\"black\" cx=\"207\" cy=\"-45.5\" rx=\"27\" ry=\"18\"/>\n<text text-anchor=\"middle\" x=\"207\" y=\"-41.8\" font-family=\"Times,serif\" font-size=\"14.00\">+</text>\n</g>\n<!-- 132845272903936+&#45;&gt;132845272903936 -->\n<g id=\"edge1\" class=\"edge\">\n<title>132845272903936+&#45;&gt;132845272903936</title>\n<path fill=\"none\" stroke=\"black\" d=\"M234.28,-45.5C241.89,-45.5 250.64,-45.5 259.77,-45.5\"/>\n<polygon fill=\"black\" stroke=\"black\" points=\"259.8,-49 269.8,-45.5 259.8,-42 259.8,-49\"/>\n</g>\n<!-- 132845272892224 -->\n<g id=\"node3\" class=\"node\">\n<title>132845272892224</title>\n<polygon fill=\"none\" stroke=\"black\" points=\"0,-55.5 0,-91.5 144,-91.5 144,-55.5 0,-55.5\"/>\n<text text-anchor=\"middle\" x=\"35.5\" y=\"-69.8\" font-family=\"Times,serif\" font-size=\"14.00\">data=5.00</text>\n<polyline fill=\"none\" stroke=\"black\" points=\"71,-55.5 71,-91.5 \"/>\n<text text-anchor=\"middle\" x=\"107.5\" y=\"-69.8\" font-family=\"Times,serif\" font-size=\"14.00\">grad=0.00</text>\n</g>\n<!-- 132845272892224&#45;&gt;132845272903936+ -->\n<g id=\"edge3\" class=\"edge\">\n<title>132845272892224&#45;&gt;132845272903936+</title>\n<path fill=\"none\" stroke=\"black\" d=\"M144.17,-58.52C153.47,-56.56 162.64,-54.63 170.95,-52.88\"/>\n<polygon fill=\"black\" stroke=\"black\" points=\"171.91,-56.25 180.98,-50.77 170.47,-49.4 171.91,-56.25\"/>\n</g>\n<!-- 132845272906336 -->\n<g id=\"node4\" class=\"node\">\n<title>132845272906336</title>\n<polygon fill=\"none\" stroke=\"black\" points=\"0,-0.5 0,-36.5 144,-36.5 144,-0.5 0,-0.5\"/>\n<text text-anchor=\"middle\" x=\"35.5\" y=\"-14.8\" font-family=\"Times,serif\" font-size=\"14.00\">data=3.00</text>\n<polyline fill=\"none\" stroke=\"black\" points=\"71,-0.5 71,-36.5 \"/>\n<text text-anchor=\"middle\" x=\"107.5\" y=\"-14.8\" font-family=\"Times,serif\" font-size=\"14.00\">grad=0.00</text>\n</g>\n<!-- 132845272906336&#45;&gt;132845272903936+ -->\n<g id=\"edge2\" class=\"edge\">\n<title>132845272906336&#45;&gt;132845272903936+</title>\n<path fill=\"none\" stroke=\"black\" d=\"M144.17,-32.95C153.47,-34.84 162.64,-36.7 170.95,-38.39\"/>\n<polygon fill=\"black\" stroke=\"black\" points=\"170.48,-41.86 180.98,-40.42 171.88,-35 170.48,-41.86\"/>\n</g>\n</g>\n</svg>\n",
            "text/plain": [
              "<graphviz.graphs.Digraph at 0x78d2734d2ad0>"
            ]
          },
          "metadata": {},
          "execution_count": 72
        }
      ]
    },
    {
      "cell_type": "code",
      "source": [
        "a = Scalar(5)\n",
        "b = Scalar(7)\n",
        "\n",
        "c = a+b\n",
        "\n",
        "d = 9 + c + 12"
      ],
      "metadata": {
        "id": "ozziM3-oi4_r"
      },
      "execution_count": null,
      "outputs": []
    },
    {
      "cell_type": "code",
      "source": [
        "draw_graph(d)"
      ],
      "metadata": {
        "id": "i1n21jhMuki-"
      },
      "execution_count": null,
      "outputs": []
    },
    {
      "cell_type": "code",
      "source": [
        "a=3.55\n",
        "print(\"a=%.4f\"%(a))#{a:.4f}\")"
      ],
      "metadata": {
        "id": "puJOEYPi3_08"
      },
      "execution_count": null,
      "outputs": []
    },
    {
      "cell_type": "code",
      "source": [
        "c"
      ],
      "metadata": {
        "id": "6LamEaDS4k_o"
      },
      "execution_count": null,
      "outputs": []
    }
  ]
}